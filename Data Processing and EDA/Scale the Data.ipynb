{
 "cells": [
  {
   "cell_type": "markdown",
   "metadata": {},
   "source": [
    "# Scale the Data"
   ]
  },
  {
   "cell_type": "markdown",
   "metadata": {
    "toc": true
   },
   "source": [
    "<h1>Table of Contents<span class=\"tocSkip\"></span></h1>\n",
    "<div class=\"toc\"><ul class=\"toc-item\"><li><span><a href=\"#Import-Modules:\" data-toc-modified-id=\"Import-Modules:-1\"><span class=\"toc-item-num\">1&nbsp;&nbsp;</span>Import Modules:</a></span></li><li><span><a href=\"#Import-Data:\" data-toc-modified-id=\"Import-Data:-2\"><span class=\"toc-item-num\">2&nbsp;&nbsp;</span>Import Data:</a></span></li><li><span><a href=\"#Setup-Train-and-Test-Data-Sets:\" data-toc-modified-id=\"Setup-Train-and-Test-Data-Sets:-3\"><span class=\"toc-item-num\">3&nbsp;&nbsp;</span>Setup Train and Test Data Sets:</a></span></li><li><span><a href=\"#Apply-Standard-Scaler:\" data-toc-modified-id=\"Apply-Standard-Scaler:-4\"><span class=\"toc-item-num\">4&nbsp;&nbsp;</span>Apply Standard Scaler:</a></span></li><li><span><a href=\"#Save-Scaled-Data:\" data-toc-modified-id=\"Save-Scaled-Data:-5\"><span class=\"toc-item-num\">5&nbsp;&nbsp;</span>Save Scaled Data:</a></span></li></ul></div>"
   ]
  },
  {
   "cell_type": "markdown",
   "metadata": {},
   "source": [
    "### Import Modules:"
   ]
  },
  {
   "cell_type": "code",
   "execution_count": 1,
   "metadata": {},
   "outputs": [],
   "source": [
    "import pandas as pd\n",
    "import numpy as np\n",
    "from sklearn.model_selection import train_test_split\n",
    "from sklearn.preprocessing import StandardScaler"
   ]
  },
  {
   "cell_type": "markdown",
   "metadata": {},
   "source": [
    "### Import Data:"
   ]
  },
  {
   "cell_type": "code",
   "execution_count": 2,
   "metadata": {},
   "outputs": [],
   "source": [
    "# Filepaths / names:\n",
    "clean_train_file = '../Data/train_clean_processed.csv'\n",
    "clean_test_file = '../Data/test_clean_processed.csv'"
   ]
  },
  {
   "cell_type": "code",
   "execution_count": 3,
   "metadata": {},
   "outputs": [
    {
     "name": "stderr",
     "output_type": "stream",
     "text": [
      "C:\\Users\\jackh\\Anaconda3\\lib\\site-packages\\numpy\\lib\\arraysetops.py:580: FutureWarning: elementwise comparison failed; returning scalar instead, but in the future will perform elementwise comparison\n",
      "  mask |= (ar1 == a)\n"
     ]
    },
    {
     "data": {
      "text/html": [
       "<div>\n",
       "<style scoped>\n",
       "    .dataframe tbody tr th:only-of-type {\n",
       "        vertical-align: middle;\n",
       "    }\n",
       "\n",
       "    .dataframe tbody tr th {\n",
       "        vertical-align: top;\n",
       "    }\n",
       "\n",
       "    .dataframe thead th {\n",
       "        text-align: right;\n",
       "    }\n",
       "</style>\n",
       "<table border=\"1\" class=\"dataframe\">\n",
       "  <thead>\n",
       "    <tr style=\"text-align: right;\">\n",
       "      <th></th>\n",
       "      <th>time</th>\n",
       "      <th>signal</th>\n",
       "      <th>open_channels</th>\n",
       "      <th>ewm_signal</th>\n",
       "      <th>dsdt</th>\n",
       "      <th>d2sdt2</th>\n",
       "    </tr>\n",
       "  </thead>\n",
       "  <tbody>\n",
       "    <tr>\n",
       "      <th>0</th>\n",
       "      <td>0.0001</td>\n",
       "      <td>-2.7600</td>\n",
       "      <td>0</td>\n",
       "      <td>-2.7600</td>\n",
       "      <td>-0.0957</td>\n",
       "      <td>0.2720</td>\n",
       "    </tr>\n",
       "    <tr>\n",
       "      <th>1</th>\n",
       "      <td>0.0002</td>\n",
       "      <td>-2.8557</td>\n",
       "      <td>0</td>\n",
       "      <td>-2.8238</td>\n",
       "      <td>0.1763</td>\n",
       "      <td>-0.0233</td>\n",
       "    </tr>\n",
       "  </tbody>\n",
       "</table>\n",
       "</div>"
      ],
      "text/plain": [
       "     time  signal  open_channels  ewm_signal    dsdt  d2sdt2\n",
       "0  0.0001 -2.7600              0     -2.7600 -0.0957  0.2720\n",
       "1  0.0002 -2.8557              0     -2.8238  0.1763 -0.0233"
      ]
     },
     "execution_count": 3,
     "metadata": {},
     "output_type": "execute_result"
    }
   ],
   "source": [
    "data_train = pd.read_csv(clean_train_file,index_col='Unnamed: 0')\n",
    "data_train.head(2)"
   ]
  },
  {
   "cell_type": "code",
   "execution_count": 4,
   "metadata": {},
   "outputs": [
    {
     "name": "stderr",
     "output_type": "stream",
     "text": [
      "C:\\Users\\jackh\\Anaconda3\\lib\\site-packages\\numpy\\lib\\arraysetops.py:580: FutureWarning: elementwise comparison failed; returning scalar instead, but in the future will perform elementwise comparison\n",
      "  mask |= (ar1 == a)\n"
     ]
    },
    {
     "data": {
      "text/html": [
       "<div>\n",
       "<style scoped>\n",
       "    .dataframe tbody tr th:only-of-type {\n",
       "        vertical-align: middle;\n",
       "    }\n",
       "\n",
       "    .dataframe tbody tr th {\n",
       "        vertical-align: top;\n",
       "    }\n",
       "\n",
       "    .dataframe thead th {\n",
       "        text-align: right;\n",
       "    }\n",
       "</style>\n",
       "<table border=\"1\" class=\"dataframe\">\n",
       "  <thead>\n",
       "    <tr style=\"text-align: right;\">\n",
       "      <th></th>\n",
       "      <th>time</th>\n",
       "      <th>signal</th>\n",
       "      <th>ewm_signal</th>\n",
       "      <th>dsdt</th>\n",
       "      <th>d2sdt2</th>\n",
       "    </tr>\n",
       "  </thead>\n",
       "  <tbody>\n",
       "    <tr>\n",
       "      <th>0</th>\n",
       "      <td>500.0001</td>\n",
       "      <td>-2.6498</td>\n",
       "      <td>-2.6498</td>\n",
       "      <td>-0.1996</td>\n",
       "      <td>0.0945</td>\n",
       "    </tr>\n",
       "    <tr>\n",
       "      <th>1</th>\n",
       "      <td>500.0002</td>\n",
       "      <td>-2.8495</td>\n",
       "      <td>-2.7829</td>\n",
       "      <td>-0.1051</td>\n",
       "      <td>0.2034</td>\n",
       "    </tr>\n",
       "  </tbody>\n",
       "</table>\n",
       "</div>"
      ],
      "text/plain": [
       "       time  signal  ewm_signal    dsdt  d2sdt2\n",
       "0  500.0001 -2.6498     -2.6498 -0.1996  0.0945\n",
       "1  500.0002 -2.8495     -2.7829 -0.1051  0.2034"
      ]
     },
     "execution_count": 4,
     "metadata": {},
     "output_type": "execute_result"
    }
   ],
   "source": [
    "data_test = pd.read_csv(clean_test_file,index_col='Unnamed: 0')\n",
    "data_test.head(2)"
   ]
  },
  {
   "cell_type": "markdown",
   "metadata": {},
   "source": [
    "### Setup Train and Test Data Sets:"
   ]
  },
  {
   "cell_type": "code",
   "execution_count": 5,
   "metadata": {},
   "outputs": [
    {
     "name": "stdout",
     "output_type": "stream",
     "text": [
      "['signal', 'ewm_signal', 'dsdt', 'd2sdt2']\n"
     ]
    }
   ],
   "source": [
    "Xcolumns = list(data_train.columns)\n",
    "Xcolumns.remove('open_channels')\n",
    "Xcolumns.remove('time')\n",
    "print(Xcolumns)"
   ]
  },
  {
   "cell_type": "code",
   "execution_count": 6,
   "metadata": {},
   "outputs": [],
   "source": [
    "X1 = data_train[Xcolumns]\n",
    "y1 = data_train['open_channels']"
   ]
  },
  {
   "cell_type": "code",
   "execution_count": 7,
   "metadata": {},
   "outputs": [],
   "source": [
    "X1_train, X1_test, y1_train, y1_test = train_test_split(X1, y1,\n",
    "                        stratify=y1, test_size=0.3, random_state=1)"
   ]
  },
  {
   "cell_type": "code",
   "execution_count": 8,
   "metadata": {},
   "outputs": [],
   "source": [
    "X2 = data_test[Xcolumns]"
   ]
  },
  {
   "cell_type": "markdown",
   "metadata": {},
   "source": [
    "### Apply Standard Scaler:"
   ]
  },
  {
   "cell_type": "code",
   "execution_count": 9,
   "metadata": {},
   "outputs": [],
   "source": [
    "scaler1 = StandardScaler()"
   ]
  },
  {
   "cell_type": "code",
   "execution_count": 10,
   "metadata": {},
   "outputs": [],
   "source": [
    "X1_train = scaler1.fit_transform(X1_train)\n",
    "X1_test = scaler1.transform(X1_test)\n",
    "\n",
    "X1_train = pd.DataFrame(X1_train, columns=X1.columns)\n",
    "X1_test = pd.DataFrame(X1_test, columns=X1.columns)"
   ]
  },
  {
   "cell_type": "code",
   "execution_count": 11,
   "metadata": {},
   "outputs": [],
   "source": [
    "X2_test = scaler1.transform(X2)\n",
    "\n",
    "X2_test = pd.DataFrame(X2_test, columns=X2.columns)"
   ]
  },
  {
   "cell_type": "markdown",
   "metadata": {},
   "source": [
    "### Save Scaled Data:"
   ]
  },
  {
   "cell_type": "code",
   "execution_count": 12,
   "metadata": {},
   "outputs": [],
   "source": [
    "# Filepaths / names:\n",
    "y1_train_file = '../Data/y1_train_clean_processed.csv'\n",
    "y1_test_file = '../Data/y1_test_clean_processed.csv'\n",
    "X1_train_file = '../Data/X1_train_clean_processed.csv'\n",
    "X1_test_file = '../Data/X1_test_clean_processed.csv'\n",
    "X2_test_file = '../Data/X2_test_clean_processed.csv'"
   ]
  },
  {
   "cell_type": "code",
   "execution_count": 13,
   "metadata": {},
   "outputs": [],
   "source": [
    "y1_train.to_csv(y1_train_file,float_format='%.4f',index=False)"
   ]
  },
  {
   "cell_type": "code",
   "execution_count": 14,
   "metadata": {},
   "outputs": [],
   "source": [
    "y1_test.to_csv(y1_test_file,float_format='%.4f',index=False)"
   ]
  },
  {
   "cell_type": "code",
   "execution_count": 15,
   "metadata": {},
   "outputs": [],
   "source": [
    "X1_train.to_csv(X1_train_file,float_format='%.4f',index=False)"
   ]
  },
  {
   "cell_type": "code",
   "execution_count": 16,
   "metadata": {},
   "outputs": [],
   "source": [
    "X1_test.to_csv(X1_test_file,float_format='%.4f',index=False)"
   ]
  },
  {
   "cell_type": "code",
   "execution_count": 17,
   "metadata": {},
   "outputs": [],
   "source": [
    "X2_test.to_csv(X2_test_file,float_format='%.4f',index=False)"
   ]
  }
 ],
 "metadata": {
  "kernelspec": {
   "display_name": "Python 3",
   "language": "python",
   "name": "python3"
  },
  "language_info": {
   "codemirror_mode": {
    "name": "ipython",
    "version": 3
   },
   "file_extension": ".py",
   "mimetype": "text/x-python",
   "name": "python",
   "nbconvert_exporter": "python",
   "pygments_lexer": "ipython3",
   "version": "3.8.0"
  },
  "toc": {
   "base_numbering": 1,
   "nav_menu": {},
   "number_sections": true,
   "sideBar": true,
   "skip_h1_title": true,
   "title_cell": "Table of Contents",
   "title_sidebar": "Contents",
   "toc_cell": true,
   "toc_position": {
    "height": "calc(100% - 180px)",
    "left": "10px",
    "top": "150px",
    "width": "285px"
   },
   "toc_section_display": true,
   "toc_window_display": true
  }
 },
 "nbformat": 4,
 "nbformat_minor": 4
}
