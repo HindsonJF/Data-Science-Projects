{
 "cells": [
  {
   "cell_type": "markdown",
   "metadata": {},
   "source": [
    "# Exploration of Baseline Predictions"
   ]
  },
  {
   "cell_type": "markdown",
   "metadata": {
    "toc": true
   },
   "source": [
    "<h1>Table of Contents<span class=\"tocSkip\"></span></h1>\n",
    "<div class=\"toc\"><ul class=\"toc-item\"><li><span><a href=\"#Import-Modules:\" data-toc-modified-id=\"Import-Modules:-1\"><span class=\"toc-item-num\">1&nbsp;&nbsp;</span>Import Modules:</a></span></li><li><span><a href=\"#Import-Data:\" data-toc-modified-id=\"Import-Data:-2\"><span class=\"toc-item-num\">2&nbsp;&nbsp;</span>Import Data:</a></span></li><li><span><a href=\"#Process-Data-into-Batches:\" data-toc-modified-id=\"Process-Data-into-Batches:-3\"><span class=\"toc-item-num\">3&nbsp;&nbsp;</span>Process Data into Batches:</a></span><ul class=\"toc-item\"><li><span><a href=\"#Split-Data:\" data-toc-modified-id=\"Split-Data:-3.1\"><span class=\"toc-item-num\">3.1&nbsp;&nbsp;</span>Split Data:</a></span></li><li><span><a href=\"#Save-Batches:\" data-toc-modified-id=\"Save-Batches:-3.2\"><span class=\"toc-item-num\">3.2&nbsp;&nbsp;</span>Save Batches:</a></span></li></ul></li><li><span><a href=\"#Generate-Baseline-Predictions-for-each-Batch:\" data-toc-modified-id=\"Generate-Baseline-Predictions-for-each-Batch:-4\"><span class=\"toc-item-num\">4&nbsp;&nbsp;</span>Generate Baseline Predictions for each Batch:</a></span></li><li><span><a href=\"#Plot-Distribution-of-Number-of-Open-Ion-Channels:\" data-toc-modified-id=\"Plot-Distribution-of-Number-of-Open-Ion-Channels:-5\"><span class=\"toc-item-num\">5&nbsp;&nbsp;</span>Plot Distribution of Number of Open Ion Channels:</a></span></li></ul></div>"
   ]
  },
  {
   "cell_type": "markdown",
   "metadata": {},
   "source": [
    "### Import Modules:"
   ]
  },
  {
   "cell_type": "code",
   "execution_count": 165,
   "metadata": {},
   "outputs": [],
   "source": [
    "import pandas as pd\n",
    "import numpy as np\n",
    "import matplotlib.pyplot as plt\n",
    "\n",
    "plt.style.use('fivethirtyeight')\n",
    "%config InlineBackend.figure_format = 'retina'\n",
    "%matplotlib inline"
   ]
  },
  {
   "cell_type": "markdown",
   "metadata": {},
   "source": [
    "### Import Data:"
   ]
  },
  {
   "cell_type": "code",
   "execution_count": 30,
   "metadata": {},
   "outputs": [
    {
     "name": "stderr",
     "output_type": "stream",
     "text": [
      "C:\\Users\\jackh\\Anaconda3\\lib\\site-packages\\numpy\\lib\\arraysetops.py:580: FutureWarning: elementwise comparison failed; returning scalar instead, but in the future will perform elementwise comparison\n",
      "  mask |= (ar1 == a)\n"
     ]
    },
    {
     "data": {
      "text/html": [
       "<div>\n",
       "<style scoped>\n",
       "    .dataframe tbody tr th:only-of-type {\n",
       "        vertical-align: middle;\n",
       "    }\n",
       "\n",
       "    .dataframe tbody tr th {\n",
       "        vertical-align: top;\n",
       "    }\n",
       "\n",
       "    .dataframe thead th {\n",
       "        text-align: right;\n",
       "    }\n",
       "</style>\n",
       "<table border=\"1\" class=\"dataframe\">\n",
       "  <thead>\n",
       "    <tr style=\"text-align: right;\">\n",
       "      <th></th>\n",
       "      <th>time</th>\n",
       "      <th>signal</th>\n",
       "      <th>open_channels</th>\n",
       "      <th>diff_open_channels</th>\n",
       "      <th>len_same_open_channels</th>\n",
       "      <th>ewm_signal</th>\n",
       "      <th>dsdt</th>\n",
       "      <th>d2sdt2</th>\n",
       "    </tr>\n",
       "  </thead>\n",
       "  <tbody>\n",
       "    <tr>\n",
       "      <th>0</th>\n",
       "      <td>0.0001</td>\n",
       "      <td>-2.7600</td>\n",
       "      <td>0</td>\n",
       "      <td>0</td>\n",
       "      <td>0</td>\n",
       "      <td>-2.7600</td>\n",
       "      <td>-0.0957</td>\n",
       "      <td>0.272000</td>\n",
       "    </tr>\n",
       "    <tr>\n",
       "      <th>1</th>\n",
       "      <td>0.0002</td>\n",
       "      <td>-2.8557</td>\n",
       "      <td>0</td>\n",
       "      <td>0</td>\n",
       "      <td>1</td>\n",
       "      <td>-2.8238</td>\n",
       "      <td>0.1763</td>\n",
       "      <td>-0.023325</td>\n",
       "    </tr>\n",
       "  </tbody>\n",
       "</table>\n",
       "</div>"
      ],
      "text/plain": [
       "     time  signal  open_channels  diff_open_channels  len_same_open_channels  \\\n",
       "0  0.0001 -2.7600              0                   0                       0   \n",
       "1  0.0002 -2.8557              0                   0                       1   \n",
       "\n",
       "   ewm_signal    dsdt    d2sdt2  \n",
       "0     -2.7600 -0.0957  0.272000  \n",
       "1     -2.8238  0.1763 -0.023325  "
      ]
     },
     "execution_count": 30,
     "metadata": {},
     "output_type": "execute_result"
    }
   ],
   "source": [
    "train = pd.read_csv('../../../../Capstone_Project_Data/train_data1.csv',index_col='Unnamed: 0')\n",
    "train.head(2)"
   ]
  },
  {
   "cell_type": "code",
   "execution_count": 34,
   "metadata": {
    "scrolled": true
   },
   "outputs": [
    {
     "name": "stderr",
     "output_type": "stream",
     "text": [
      "C:\\Users\\jackh\\Anaconda3\\lib\\site-packages\\numpy\\lib\\arraysetops.py:580: FutureWarning: elementwise comparison failed; returning scalar instead, but in the future will perform elementwise comparison\n",
      "  mask |= (ar1 == a)\n"
     ]
    },
    {
     "data": {
      "text/html": [
       "<div>\n",
       "<style scoped>\n",
       "    .dataframe tbody tr th:only-of-type {\n",
       "        vertical-align: middle;\n",
       "    }\n",
       "\n",
       "    .dataframe tbody tr th {\n",
       "        vertical-align: top;\n",
       "    }\n",
       "\n",
       "    .dataframe thead th {\n",
       "        text-align: right;\n",
       "    }\n",
       "</style>\n",
       "<table border=\"1\" class=\"dataframe\">\n",
       "  <thead>\n",
       "    <tr style=\"text-align: right;\">\n",
       "      <th></th>\n",
       "      <th>time</th>\n",
       "      <th>signal</th>\n",
       "      <th>ewm_signal</th>\n",
       "      <th>dsdt</th>\n",
       "      <th>d2sdt2</th>\n",
       "    </tr>\n",
       "  </thead>\n",
       "  <tbody>\n",
       "    <tr>\n",
       "      <th>0</th>\n",
       "      <td>500.0001</td>\n",
       "      <td>-2.6498</td>\n",
       "      <td>-2.649800</td>\n",
       "      <td>-0.1996</td>\n",
       "      <td>0.0945</td>\n",
       "    </tr>\n",
       "    <tr>\n",
       "      <th>1</th>\n",
       "      <td>500.0002</td>\n",
       "      <td>-2.8494</td>\n",
       "      <td>-2.782867</td>\n",
       "      <td>-0.1051</td>\n",
       "      <td>0.2034</td>\n",
       "    </tr>\n",
       "  </tbody>\n",
       "</table>\n",
       "</div>"
      ],
      "text/plain": [
       "       time  signal  ewm_signal    dsdt  d2sdt2\n",
       "0  500.0001 -2.6498   -2.649800 -0.1996  0.0945\n",
       "1  500.0002 -2.8494   -2.782867 -0.1051  0.2034"
      ]
     },
     "execution_count": 34,
     "metadata": {},
     "output_type": "execute_result"
    }
   ],
   "source": [
    "test = pd.read_csv('../../../../Capstone_Project_Data/test_data1.csv',index_col='Unnamed: 0')\n",
    "test.head(2)"
   ]
  },
  {
   "cell_type": "markdown",
   "metadata": {},
   "source": [
    "### Process Data into Batches:"
   ]
  },
  {
   "cell_type": "markdown",
   "metadata": {},
   "source": [
    "#### Split Data:"
   ]
  },
  {
   "cell_type": "code",
   "execution_count": 55,
   "metadata": {},
   "outputs": [],
   "source": [
    "def to_batches(df_input):\n",
    "    n_batch = int(df_input.shape[0] / 500000)\n",
    "    dictionary = {}\n",
    "    for i in range(0,n_batch):\n",
    "        df = df_input[i*500000:(i+1)*500000]\n",
    "        dictionary[\"batch_\" + str(i)] = df\n",
    "    return dictionary"
   ]
  },
  {
   "cell_type": "code",
   "execution_count": 56,
   "metadata": {},
   "outputs": [],
   "source": [
    "test_dict = to_batches(test)"
   ]
  },
  {
   "cell_type": "code",
   "execution_count": 58,
   "metadata": {},
   "outputs": [],
   "source": [
    "train_dict = to_batches(train)"
   ]
  },
  {
   "cell_type": "code",
   "execution_count": 144,
   "metadata": {},
   "outputs": [
    {
     "name": "stdout",
     "output_type": "stream",
     "text": [
      "(500000, 8)\n",
      "(500000, 8)\n",
      "(500000, 8)\n",
      "(500000, 8)\n",
      "(500000, 8)\n",
      "(500000, 8)\n",
      "(500000, 8)\n",
      "(500000, 8)\n",
      "(500000, 8)\n",
      "(500000, 8)\n"
     ]
    }
   ],
   "source": [
    "for i in train_dict:\n",
    "    print(train_dict[i].shape)"
   ]
  },
  {
   "cell_type": "markdown",
   "metadata": {},
   "source": [
    "#### Save Batches:"
   ]
  },
  {
   "cell_type": "code",
   "execution_count": 63,
   "metadata": {},
   "outputs": [],
   "source": [
    "def save_dict(dict_data,name):\n",
    "    for i in dict_data:\n",
    "        file_path = '../../../../Capstone_Project_Data/{}_{}.csv'.format(name,i)\n",
    "        dict_data[i].to_csv(file_path)\n",
    "    return"
   ]
  },
  {
   "cell_type": "code",
   "execution_count": 64,
   "metadata": {},
   "outputs": [],
   "source": [
    "save_dict(test_dict,\"test\")"
   ]
  },
  {
   "cell_type": "code",
   "execution_count": 65,
   "metadata": {},
   "outputs": [],
   "source": [
    "save_dict(train_dict,\"train\")"
   ]
  },
  {
   "cell_type": "markdown",
   "metadata": {},
   "source": [
    "### Generate Baseline Predictions for each Batch:"
   ]
  },
  {
   "cell_type": "code",
   "execution_count": 189,
   "metadata": {},
   "outputs": [],
   "source": [
    "def baseline_pred(dict_data):\n",
    "    batch = []\n",
    "    baseline = []\n",
    "    prediction = []\n",
    "    for i in dict_data:\n",
    "        df = dict_data[i]\n",
    "        bl = df['open_channels'].value_counts(normalize=True).max()\n",
    "        pred = df['open_channels'].value_counts().idxmax()\n",
    "        print(i,bl,pred)\n",
    "        batch.append(i)\n",
    "        baseline.append(bl)\n",
    "        prediction.append(pred)\n",
    "    \n",
    "    d = {'Batch':batch,'Baseline':baseline,'Prediction':prediction}\n",
    "    results = pd.DataFrame(data=d)\n",
    "    return results"
   ]
  },
  {
   "cell_type": "code",
   "execution_count": 190,
   "metadata": {
    "scrolled": false
   },
   "outputs": [
    {
     "name": "stdout",
     "output_type": "stream",
     "text": [
      "batch_0 0.968268 0\n",
      "batch_1 0.961324 0\n",
      "batch_2 0.747992 1\n",
      "batch_3 0.433766 2\n",
      "batch_4 0.264638 7\n",
      "batch_5 0.375164 4\n",
      "batch_6 0.75361 1\n",
      "batch_7 0.433318 2\n",
      "batch_8 0.371692 4\n",
      "batch_9 0.265392 7\n"
     ]
    }
   ],
   "source": [
    "Baseline_Predictions = baseline_pred(train_dict)"
   ]
  },
  {
   "cell_type": "code",
   "execution_count": 191,
   "metadata": {},
   "outputs": [
    {
     "name": "stdout",
     "output_type": "stream",
     "text": [
      "Baseline Prediction: 0 with a probablity of 0.2480304\n"
     ]
    }
   ],
   "source": [
    "macro_baseline = train['open_channels'].value_counts(normalize=True).max()\n",
    "marco_prediction = train['open_channels'].value_counts().idxmax()\n",
    "\n",
    "print(\"Baseline Prediction:\",marco_prediction, \"with a probablity of\",macro_baseline)"
   ]
  },
  {
   "cell_type": "code",
   "execution_count": 192,
   "metadata": {},
   "outputs": [
    {
     "data": {
      "text/html": [
       "<div>\n",
       "<style scoped>\n",
       "    .dataframe tbody tr th:only-of-type {\n",
       "        vertical-align: middle;\n",
       "    }\n",
       "\n",
       "    .dataframe tbody tr th {\n",
       "        vertical-align: top;\n",
       "    }\n",
       "\n",
       "    .dataframe thead th {\n",
       "        text-align: right;\n",
       "    }\n",
       "</style>\n",
       "<table border=\"1\" class=\"dataframe\">\n",
       "  <thead>\n",
       "    <tr style=\"text-align: right;\">\n",
       "      <th></th>\n",
       "      <th>open_channels</th>\n",
       "    </tr>\n",
       "  </thead>\n",
       "  <tbody>\n",
       "    <tr>\n",
       "      <th>0</th>\n",
       "      <td>0.248030</td>\n",
       "    </tr>\n",
       "    <tr>\n",
       "      <th>1</th>\n",
       "      <td>0.197173</td>\n",
       "    </tr>\n",
       "    <tr>\n",
       "      <th>3</th>\n",
       "      <td>0.133722</td>\n",
       "    </tr>\n",
       "    <tr>\n",
       "      <th>2</th>\n",
       "      <td>0.110785</td>\n",
       "    </tr>\n",
       "    <tr>\n",
       "      <th>4</th>\n",
       "      <td>0.080682</td>\n",
       "    </tr>\n",
       "    <tr>\n",
       "      <th>5</th>\n",
       "      <td>0.055575</td>\n",
       "    </tr>\n",
       "    <tr>\n",
       "      <th>7</th>\n",
       "      <td>0.053003</td>\n",
       "    </tr>\n",
       "    <tr>\n",
       "      <th>8</th>\n",
       "      <td>0.049037</td>\n",
       "    </tr>\n",
       "    <tr>\n",
       "      <th>6</th>\n",
       "      <td>0.037622</td>\n",
       "    </tr>\n",
       "    <tr>\n",
       "      <th>9</th>\n",
       "      <td>0.027224</td>\n",
       "    </tr>\n",
       "    <tr>\n",
       "      <th>10</th>\n",
       "      <td>0.007147</td>\n",
       "    </tr>\n",
       "  </tbody>\n",
       "</table>\n",
       "</div>"
      ],
      "text/plain": [
       "    open_channels\n",
       "0        0.248030\n",
       "1        0.197173\n",
       "3        0.133722\n",
       "2        0.110785\n",
       "4        0.080682\n",
       "5        0.055575\n",
       "7        0.053003\n",
       "8        0.049037\n",
       "6        0.037622\n",
       "9        0.027224\n",
       "10       0.007147"
      ]
     },
     "execution_count": 192,
     "metadata": {},
     "output_type": "execute_result"
    }
   ],
   "source": [
    "distribution = train['open_channels'].value_counts(normalize=True,sort=False)\n",
    "pd.DataFrame(train['open_channels'].value_counts(normalize=True))"
   ]
  },
  {
   "cell_type": "markdown",
   "metadata": {},
   "source": [
    "### Plot Distribution of Number of Open Ion Channels:"
   ]
  },
  {
   "cell_type": "code",
   "execution_count": 166,
   "metadata": {},
   "outputs": [
    {
     "data": {
      "image/png": "[encoded data removed]",
      "text/plain": [
       "<Figure size 432x288 with 1 Axes>"
      ]
     },
     "metadata": {
      "image/png": {
       "height": 255,
       "width": 425
      },
      "needs_background": "light"
     },
     "output_type": "display_data"
    }
   ],
   "source": [
    "ax = train['open_channels'].plot.hist(bins=10, alpha=0.5)\n",
    "plt.show()"
   ]
  },
  {
   "cell_type": "code",
   "execution_count": 193,
   "metadata": {},
   "outputs": [
    {
     "data": {
      "image/png": "[encoded data removed]",
      "text/plain": [
       "<Figure size 432x288 with 1 Axes>"
      ]
     },
     "metadata": {
      "image/png": {
       "height": 244,
       "width": 416
      },
      "needs_background": "light"
     },
     "output_type": "display_data"
    }
   ],
   "source": [
    "plt.plot(distribution)\n",
    "plt.show()"
   ]
  },
  {
   "cell_type": "code",
   "execution_count": null,
   "metadata": {},
   "outputs": [],
   "source": []
  }
 ],
 "metadata": {
  "kernelspec": {
   "display_name": "Python 3",
   "language": "python",
   "name": "python3"
  },
  "language_info": {
   "codemirror_mode": {
    "name": "ipython",
    "version": 3
   },
   "file_extension": ".py",
   "mimetype": "text/x-python",
   "name": "python",
   "nbconvert_exporter": "python",
   "pygments_lexer": "ipython3",
   "version": "3.8.0"
  },
  "toc": {
   "base_numbering": 1,
   "nav_menu": {},
   "number_sections": true,
   "sideBar": true,
   "skip_h1_title": true,
   "title_cell": "Table of Contents",
   "title_sidebar": "Contents",
   "toc_cell": true,
   "toc_position": {},
   "toc_section_display": true,
   "toc_window_display": true
  }
 },
 "nbformat": 4,
 "nbformat_minor": 4
}
