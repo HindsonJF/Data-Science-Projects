{
 "cells": [
  {
   "cell_type": "markdown",
   "metadata": {},
   "source": [
    "# Submission Predictions"
   ]
  },
  {
   "cell_type": "markdown",
   "metadata": {
    "toc": true
   },
   "source": [
    "<h1>Table of Contents<span class=\"tocSkip\"></span></h1>\n",
    "<div class=\"toc\"><ul class=\"toc-item\"><li><span><a href=\"#Import-Modules:\" data-toc-modified-id=\"Import-Modules:-1\"><span class=\"toc-item-num\">1&nbsp;&nbsp;</span>Import Modules:</a></span></li><li><span><a href=\"#Import-Data:\" data-toc-modified-id=\"Import-Data:-2\"><span class=\"toc-item-num\">2&nbsp;&nbsp;</span>Import Data:</a></span></li><li><span><a href=\"#Extract-Best-Model-from-Gridsearch:\" data-toc-modified-id=\"Extract-Best-Model-from-Gridsearch:-3\"><span class=\"toc-item-num\">3&nbsp;&nbsp;</span>Extract Best Model from Gridsearch:</a></span></li></ul></div>"
   ]
  },
  {
   "cell_type": "markdown",
   "metadata": {},
   "source": [
    "### Import Modules:"
   ]
  },
  {
   "cell_type": "code",
   "execution_count": 1,
   "metadata": {},
   "outputs": [],
   "source": [
    "import pandas as pd\n",
    "import numpy as np\n",
    "import joblib"
   ]
  },
  {
   "cell_type": "code",
   "execution_count": 2,
   "metadata": {},
   "outputs": [],
   "source": [
    "from sklearn.dummy import DummyClassifier\n",
    "from sklearn.linear_model import PoissonRegressor\n",
    "from sklearn.linear_model import LogisticRegression\n",
    "from sklearn.neighbors import KNeighborsClassifier\n",
    "from sklearn.tree import DecisionTreeClassifier\n",
    "from sklearn.ensemble import RandomForestClassifier\n",
    "from sklearn import naive_bayes\n",
    "\n",
    "from sklearn.model_selection import GridSearchCV"
   ]
  },
  {
   "cell_type": "markdown",
   "metadata": {},
   "source": [
    "### Import Data:"
   ]
  },
  {
   "cell_type": "code",
   "execution_count": 3,
   "metadata": {},
   "outputs": [],
   "source": [
    "# Filepaths / names:\n",
    "X2_test_file = '../Data/X2_test_clean_processed.csv'\n",
    "submisson_file = '../Data/sample_submission.csv'"
   ]
  },
  {
   "cell_type": "code",
   "execution_count": 4,
   "metadata": {},
   "outputs": [],
   "source": [
    "X2_test = pd.read_csv(X2_test_file)\n",
    "submission = pd.read_csv(submisson_file)"
   ]
  },
  {
   "cell_type": "code",
   "execution_count": 5,
   "metadata": {},
   "outputs": [
    {
     "name": "stdout",
     "output_type": "stream",
     "text": [
      "<class 'pandas.core.frame.DataFrame'>\n",
      "RangeIndex: 2000000 entries, 0 to 1999999\n",
      "Data columns (total 2 columns):\n",
      " #   Column         Dtype  \n",
      "---  ------         -----  \n",
      " 0   time           float64\n",
      " 1   open_channels  int64  \n",
      "dtypes: float64(1), int64(1)\n",
      "memory usage: 30.5 MB\n"
     ]
    }
   ],
   "source": [
    "submission.info()"
   ]
  },
  {
   "cell_type": "markdown",
   "metadata": {},
   "source": [
    "### Extract Best Model from Gridsearch:"
   ]
  },
  {
   "cell_type": "code",
   "execution_count": 6,
   "metadata": {},
   "outputs": [],
   "source": [
    "folder = !dir"
   ]
  },
  {
   "cell_type": "code",
   "execution_count": 7,
   "metadata": {},
   "outputs": [
    {
     "name": "stdout",
     "output_type": "stream",
     "text": [
      " Volume in drive C is OS\n",
      " Volume Serial Number is 6201-A3CF\n",
      "\n",
      " Directory of C:\\Users\\jackh\\Documents\\Data_Science_Intensive\\Capstone_Project\\Second Tidy Up\\Prediction Submissions\n",
      "\n",
      "14/01/2021  19:55    <DIR>          .\n",
      "14/01/2021  19:55    <DIR>          ..\n",
      "14/01/2021  19:01    <DIR>          .ipynb_checkpoints\n",
      "14/01/2021  18:57               681 Baseline_Prediction_Model_0.jlib\n",
      "14/01/2021  18:57             1,620 BernoulliNB_8.jlib\n",
      "14/01/2021  18:57         5,010,638 Decision_Tree_Model_4.jlib\n",
      "14/01/2021  18:59             4,684 Extract Best Model from Gridsearches.ipynb\n",
      "14/01/2021  18:57             1,647 GaussianNB_6.jlib\n",
      "14/01/2021  18:57       286,292,742 KNN_Model_3.jlib\n",
      "14/01/2021  18:57             1,417 Logistic_Regression_Model_2.jlib\n",
      "14/01/2021  18:57               765 Poisson_Regressor_Model_1.jlib\n",
      "14/01/2021  18:57        87,822,064 Random_Forest_Model_5.jlib\n",
      "14/01/2021  19:55            14,743 Submission Predictions.ipynb\n",
      "              10 File(s)    379,151,001 bytes\n",
      "               3 Dir(s)  50,754,748,416 bytes free\n"
     ]
    }
   ],
   "source": [
    "for i in folder:\n",
    "    print(i)"
   ]
  },
  {
   "cell_type": "code",
   "execution_count": 8,
   "metadata": {},
   "outputs": [],
   "source": [
    "Model_Names = []\n",
    "for i in folder:\n",
    "    if i.split(' ')[-1].split('.')[-1] == 'jlib':\n",
    "        Model_Names.append(i.split(' ')[-1])"
   ]
  },
  {
   "cell_type": "code",
   "execution_count": 9,
   "metadata": {},
   "outputs": [
    {
     "name": "stdout",
     "output_type": "stream",
     "text": [
      "8\n"
     ]
    },
    {
     "data": {
      "text/plain": [
       "['Baseline_Prediction_Model_0.jlib',\n",
       " 'BernoulliNB_8.jlib',\n",
       " 'Decision_Tree_Model_4.jlib',\n",
       " 'GaussianNB_6.jlib',\n",
       " 'KNN_Model_3.jlib',\n",
       " 'Logistic_Regression_Model_2.jlib',\n",
       " 'Poisson_Regressor_Model_1.jlib',\n",
       " 'Random_Forest_Model_5.jlib']"
      ]
     },
     "execution_count": 9,
     "metadata": {},
     "output_type": "execute_result"
    }
   ],
   "source": [
    "print(len(Model_Names))\n",
    "Model_Names"
   ]
  },
  {
   "cell_type": "code",
   "execution_count": 10,
   "metadata": {},
   "outputs": [
    {
     "name": "stdout",
     "output_type": "stream",
     "text": [
      "Baseline_Prediction_Model_0.jlib\n",
      "BernoulliNB_8.jlib\n",
      "Decision_Tree_Model_4.jlib\n",
      "GaussianNB_6.jlib\n",
      "KNN_Model_3.jlib\n",
      "Logistic_Regression_Model_2.jlib\n",
      "Poisson_Regressor_Model_1.jlib\n",
      "Random_Forest_Model_5.jlib\n"
     ]
    }
   ],
   "source": [
    "for model in Model_Names:\n",
    "    print(model)\n",
    "    file = joblib.load(model)\n",
    "    y2_pred_modelN = file.predict(X2_test)\n",
    "    submission_modelN = submission\n",
    "    submission_modelN['open_channels'] = y2_pred_modelN\n",
    "    name = model.split(\".\")[0]\n",
    "    submission_modelN.to_csv(f\"{name}_Submission.csv\", index=False, float_format='%.4f')"
   ]
  }
 ],
 "metadata": {
  "kernelspec": {
   "display_name": "Python 3",
   "language": "python",
   "name": "python3"
  },
  "language_info": {
   "codemirror_mode": {
    "name": "ipython",
    "version": 3
   },
   "file_extension": ".py",
   "mimetype": "text/x-python",
   "name": "python",
   "nbconvert_exporter": "python",
   "pygments_lexer": "ipython3",
   "version": "3.8.0"
  },
  "toc": {
   "base_numbering": 1,
   "nav_menu": {},
   "number_sections": true,
   "sideBar": true,
   "skip_h1_title": true,
   "title_cell": "Table of Contents",
   "title_sidebar": "Contents",
   "toc_cell": true,
   "toc_position": {
    "height": "calc(100% - 180px)",
    "left": "10px",
    "top": "150px",
    "width": "384px"
   },
   "toc_section_display": true,
   "toc_window_display": true
  }
 },
 "nbformat": 4,
 "nbformat_minor": 4
}
